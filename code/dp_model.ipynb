{
 "cells": [
  {
   "cell_type": "code",
   "execution_count": 1,
   "metadata": {
    "colab": {
     "base_uri": "https://localhost:8080/",
     "height": 35
    },
    "colab_type": "code",
    "id": "hZHjZWYMtb6s",
    "outputId": "6a57ce89-6287-42fe-d083-d7e603f61122"
   },
   "outputs": [
    {
     "name": "stderr",
     "output_type": "stream",
     "text": [
      "Using TensorFlow backend.\n"
     ]
    }
   ],
   "source": [
    "import matplotlib.pyplot as plt\n",
    "import numpy as np\n",
    "import os\n",
    "import tensorflow as tf\n",
    "import zipfile\n",
    "from tensorflow.keras.layers import Conv2D, Dense, Flatten, MaxPooling2D,Dropout\n",
    "from tensorflow.keras.models import Sequential\n",
    "from tensorflow.keras.applications.inception_v3 import InceptionV3\n",
    "from keras import regularizers\n",
    "import pickle\n",
    "from tensorflow.keras import Model\n",
    "import random"
   ]
  },
  {
   "cell_type": "code",
   "execution_count": 2,
   "metadata": {
    "colab": {},
    "colab_type": "code",
    "id": "Ur4_5_O37Y8M"
   },
   "outputs": [],
   "source": [
    "def get_data(dataset, mode):\n",
    "  data = {}\n",
    "  \n",
    "  if mode == 'train':\n",
    "    path = '../data/patches'\n",
    "  elif mode == 'test':\n",
    "    path = '../data/patches'\n",
    "  \n",
    "  for fig in dataset:\n",
    "    fr = fr = open(path + fig + '.txt','rb')  \n",
    "    patch,label = pickle.load(fr)\n",
    "    patch = patch.astype('float32') / 255\n",
    "    data[fig] = (patch,label)\n",
    "  return data\n",
    "\n",
    "# combine data from different files\n",
    "def buildDataset(indices, mode):\n",
    "  data,label = [], []\n",
    "  \n",
    "  train_data_dic = get_data(indices, mode)\n",
    "  \n",
    "  for k in train_data_dic.keys():\n",
    "    data.append(train_data_dic[k][0])\n",
    "    label.append(train_data_dic[k][1])\n",
    "    print(\"Load Data\", k)\n",
    "  \n",
    "  return np.concatenate(tuple(data)), np.concatenate(tuple(label))"
   ]
  },
  {
   "cell_type": "code",
   "execution_count": 3,
   "metadata": {},
   "outputs": [],
   "source": [
    "def shuffle(data, label):\n",
    "    assert data.shape[0] == label.shape[0], 'not equal dimensition for data and label'\n",
    "    num = data.shape[0]\n",
    "    indices = random.sample(range(num), num)\n",
    "    return data[indices,:, :, :], label[indices]"
   ]
  },
  {
   "cell_type": "code",
   "execution_count": 4,
   "metadata": {},
   "outputs": [],
   "source": [
    "#test shuffle\n",
    "# data = np.array([[1,1,1,1],[2,2,2,2],[3,3,3,3]])\n",
    "# label = np.array([1,2,3])\n",
    "# data, label = shuffle(data, label)\n",
    "# print(data, label)"
   ]
  },
  {
   "cell_type": "code",
   "execution_count": 21,
   "metadata": {
    "colab": {
     "base_uri": "https://localhost:8080/",
     "height": 431
    },
    "colab_type": "code",
    "id": "KcaciC5nt72H",
    "outputId": "935df4fe-1d52-4d32-9f7b-db106fc52dd9"
   },
   "outputs": [
    {
     "name": "stdout",
     "output_type": "stream",
     "text": [
      "model_031.h5\t\t      model_078.h5    model_except110091.h5\r\n",
      "model_078_101_016_031_110.h5  model_1.h5      model_inv.h5\r\n",
      "model_078_101_016_031.h5      model_3_101.h5  model_mob.h5\r\n"
     ]
    }
   ],
   "source": [
    " !ls ../models"
   ]
  },
  {
   "cell_type": "markdown",
   "metadata": {
    "colab_type": "text",
    "id": "9DtwR17dVtyL"
   },
   "source": [
    "# Model"
   ]
  },
  {
   "cell_type": "code",
   "execution_count": 6,
   "metadata": {
    "colab": {},
    "colab_type": "code",
    "id": "dHg61FPNUa-s"
   },
   "outputs": [],
   "source": [
    "conv_base = InceptionV3(include_top=False, weights='imagenet')\n",
    "conv_base.trainable = False"
   ]
  },
  {
   "cell_type": "code",
   "execution_count": 7,
   "metadata": {
    "colab": {},
    "colab_type": "code",
    "id": "ZRuwMif20UW9"
   },
   "outputs": [],
   "source": [
    "inputs = [tf.keras.Input(shape=(299,299,3)),tf.keras.Input(shape=(299,299,3)), \\\n",
    "          tf.keras.Input(shape=(299,299,3)),tf.keras.Input(shape=(299,299,3))]\n",
    "\n",
    "layer1_conv = conv_base(inputs[0])\n",
    "layer1_flatten = Flatten()(layer1_conv)\n",
    "layer1_dense1 = Dense(64,activation = 'relu')(layer1_flatten)\n",
    "#layer1_dense2 = Dense(32,activation = 'relu')(layer1_dense1)\n",
    "layer1 = Dropout(0.4)(layer1_dense1)\n",
    "\n",
    "layer2_conv = conv_base(inputs[1])\n",
    "layer2_flatten = Flatten()(layer2_conv)\n",
    "layer2_dense1 = Dense(64,activation = 'relu')(layer2_flatten)\n",
    "#layer2_dense2 = Dense(32,activation = 'relu')(layer2_dense1)\n",
    "layer2 = Dropout(0.4)(layer2_dense1)\n",
    "\n",
    "layer3_conv = conv_base(inputs[2])\n",
    "layer3_flatten = Flatten()(layer3_conv)\n",
    "layer3_dense1 = Dense(64,activation = 'relu')(layer3_flatten)\n",
    "#layer3_dense2 = Dense(32,activation = 'relu')(layer3_dense1)\n",
    "layer3 = Dropout(0.4)(layer3_dense1)\n",
    "\n",
    "layer4_conv = conv_base(inputs[3])\n",
    "layer4_flatten = Flatten()(layer4_conv)\n",
    "layer4_dense1 = Dense(64,activation = 'relu')(layer4_flatten)\n",
    "#layer4_dense2 = Dense(32,activation = 'relu')(layer4_dense1)\n",
    "layer4 = Dropout(0.4)(layer4_dense1)\n",
    "\n",
    "merged_input = tf.concat([layer1,layer2,layer3,layer4],axis = 1)\n",
    "output = tf.keras.layers.Dense(1,'sigmoid')(merged_input)\n",
    "model = Model(inputs=inputs, outputs=output)"
   ]
  },
  {
   "cell_type": "code",
   "execution_count": 8,
   "metadata": {
    "colab": {},
    "colab_type": "code",
    "id": "ZlcEJYuk6obS"
   },
   "outputs": [],
   "source": [
    "# optimizer = tf.keras.optimizers.RMSprop(lr=0.05, rho=0.9, epsilon=1.0, decay=0.9)\n",
    "optimizer = tf.keras.optimizers.Adam()\n",
    "model.compile(optimizer, loss='binary_crossentropy',metrics = ['accuracy'])"
   ]
  },
  {
   "cell_type": "markdown",
   "metadata": {},
   "source": [
    "# Train"
   ]
  },
  {
   "cell_type": "code",
   "execution_count": 22,
   "metadata": {
    "colab": {
     "base_uri": "https://localhost:8080/",
     "height": 161
    },
    "colab_type": "code",
    "id": "Bdi98aio7En7",
    "outputId": "ed692573-af15-4225-f0e0-fa912503af05"
   },
   "outputs": [
    {
     "name": "stdout",
     "output_type": "stream",
     "text": [
      "Load Data 059\n",
      "Load Data 075\n",
      "Load Data 002\n",
      "Load Data 001\n",
      "Load Data 081\n",
      "Load Data 016\n",
      "Load Data 094\n",
      "Load Data 064\n",
      "Load Data 084\n",
      "Load Data 012\n",
      "Load Data 035\n",
      "Load Data 019\n",
      "Load Data 057\n",
      "Load Data 031\n",
      "Load Data 096\n",
      "Load Data 005\n",
      "Load Data 023\n"
     ]
    }
   ],
   "source": [
    "# all indices = ['001', '002', '005', '012', '016', '019', '023', '031',\n",
    "#                '035', '057', '059', '064', '075', '078', '081', '084',\n",
    "#                '091', '094', '096', '101', '110']\n",
    "indices_train = ['001', '002', '005', '012', '016', '019', '023', '031',\\\n",
    "                 '035', '057', '059', '064', '075', '081', '084',\\\n",
    "                 '094', '096']\n",
    "train_data, train_label = buildDataset(indices_train, 'train')"
   ]
  },
  {
   "cell_type": "code",
   "execution_count": 23,
   "metadata": {},
   "outputs": [],
   "source": [
    "train_data, train_label = shuffle(train_data, train_label)"
   ]
  },
  {
   "cell_type": "code",
   "execution_count": 24,
   "metadata": {},
   "outputs": [],
   "source": [
    "model.load_weights(\"../models/model_078.h5\")"
   ]
  },
  {
   "cell_type": "code",
   "execution_count": 25,
   "metadata": {
    "colab": {
     "base_uri": "https://localhost:8080/",
     "height": 143
    },
    "colab_type": "code",
    "id": "dA8oyjP09ck2",
    "outputId": "7e0c5fd6-edce-41dc-9e51-95055c81af99"
   },
   "outputs": [
    {
     "name": "stdout",
     "output_type": "stream",
     "text": [
      "Train on 2152 samples, validate on 240 samples\n",
      "Epoch 1/20\n",
      "2152/2152 [==============================] - 50s 23ms/sample - loss: 0.4680 - accuracy: 0.8327 - val_loss: 0.3179 - val_accuracy: 0.9042\n",
      "Epoch 2/20\n",
      "2152/2152 [==============================] - 31s 14ms/sample - loss: 0.3141 - accuracy: 0.8717 - val_loss: 0.2149 - val_accuracy: 0.9042\n",
      "Epoch 3/20\n",
      "2152/2152 [==============================] - 31s 14ms/sample - loss: 0.2332 - accuracy: 0.9033 - val_loss: 0.1552 - val_accuracy: 0.9375\n",
      "Epoch 4/20\n",
      "2152/2152 [==============================] - 31s 14ms/sample - loss: 0.1895 - accuracy: 0.9205 - val_loss: 0.1779 - val_accuracy: 0.9500\n",
      "Epoch 8/20\n",
      "2152/2152 [==============================] - 31s 14ms/sample - loss: 0.1604 - accuracy: 0.9303 - val_loss: 0.1113 - val_accuracy: 0.9667\n",
      "Epoch 9/20\n",
      "2152/2152 [==============================] - 31s 14ms/sample - loss: 0.1621 - accuracy: 0.9401 - val_loss: 0.1378 - val_accuracy: 0.9375\n",
      "Epoch 10/20\n",
      "2152/2152 [==============================] - 31s 14ms/sample - loss: 0.1390 - accuracy: 0.9438 - val_loss: 0.2199 - val_accuracy: 0.9625\n",
      "Epoch 11/20\n",
      "2152/2152 [==============================] - 31s 14ms/sample - loss: 0.1440 - accuracy: 0.9493 - val_loss: 0.1099 - val_accuracy: 0.9625\n",
      "Epoch 12/20\n",
      "2152/2152 [==============================] - 31s 14ms/sample - loss: 0.1363 - accuracy: 0.9461 - val_loss: 0.1481 - val_accuracy: 0.9583\n",
      "Epoch 13/20\n",
      "2152/2152 [==============================] - 31s 14ms/sample - loss: 0.1046 - accuracy: 0.9586 - val_loss: 0.1232 - val_accuracy: 0.9500\n",
      "Epoch 14/20\n",
      "2152/2152 [==============================] - 31s 14ms/sample - loss: 0.1295 - accuracy: 0.9507 - val_loss: 0.0714 - val_accuracy: 0.9750\n",
      "Epoch 15/20\n",
      "2152/2152 [==============================] - 31s 14ms/sample - loss: 0.1010 - accuracy: 0.9614 - val_loss: 0.0812 - val_accuracy: 0.9625\n",
      "Epoch 16/20\n",
      "2152/2152 [==============================] - 31s 14ms/sample - loss: 0.1118 - accuracy: 0.9535 - val_loss: 0.0875 - val_accuracy: 0.9792\n",
      "Epoch 17/20\n",
      "2152/2152 [==============================] - 31s 14ms/sample - loss: 0.1307 - accuracy: 0.9461 - val_loss: 0.1014 - val_accuracy: 0.9583\n",
      "Epoch 18/20\n",
      "2152/2152 [==============================] - 31s 14ms/sample - loss: 0.1423 - accuracy: 0.9498 - val_loss: 0.0976 - val_accuracy: 0.9792\n",
      "Epoch 19/20\n",
      "2152/2152 [==============================] - 31s 14ms/sample - loss: 0.1222 - accuracy: 0.9489 - val_loss: 0.1205 - val_accuracy: 0.9792\n",
      "Epoch 20/20\n",
      "2152/2152 [==============================] - 31s 14ms/sample - loss: 0.1352 - accuracy: 0.9493 - val_loss: 0.0920 - val_accuracy: 0.9792\n"
     ]
    }
   ],
   "source": [
    "history = model.fit(x = [train_data[:,0,:,:,:],train_data[:,1,:,:,:],train_data[:,2,:,:,:],train_data[:,3,:,:,:]], y = train_label,\n",
    "                    validation_split = 0.05, \n",
    "                    batch_size= 10, epochs = 20, verbose = 1)"
   ]
  },
  {
   "cell_type": "code",
   "execution_count": 26,
   "metadata": {},
   "outputs": [],
   "source": [
    "model.save_weights('../models/model_except110091110.h5')"
   ]
  },
  {
   "cell_type": "markdown",
   "metadata": {},
   "source": [
    "# Test"
   ]
  },
  {
   "cell_type": "code",
   "execution_count": null,
   "metadata": {},
   "outputs": [],
   "source": [
    "# 110 101 091"
   ]
  },
  {
   "cell_type": "code",
   "execution_count": 106,
   "metadata": {},
   "outputs": [
    {
     "name": "stdout",
     "output_type": "stream",
     "text": [
      "Load Data 091\n"
     ]
    }
   ],
   "source": [
    "test_index = '091'\n",
    "indices_test = [str(test_index)]\n",
    "test_data, test_label = buildDataset(indices_test, 'test')\n",
    "test_data,  test_label = shuffle(test_data, test_label)"
   ]
  },
  {
   "cell_type": "code",
   "execution_count": 107,
   "metadata": {},
   "outputs": [],
   "source": [
    "#model.load_weights(\"../models/model_except110091.h5\")"
   ]
  },
  {
   "cell_type": "code",
   "execution_count": 108,
   "metadata": {},
   "outputs": [
    {
     "name": "stdout",
     "output_type": "stream",
     "text": [
      "188/188 [==============================] - 2s 11ms/sample - loss: 0.5293 - accuracy: 0.7819\n"
     ]
    }
   ],
   "source": [
    "result = model.evaluate(x = [test_data[:,0,:,:,:],test_data[:,1,:,:,:],test_data[:,2,:,:,:],test_data[:,3,:,:,:]],\\\n",
    "               y = test_label,\\\n",
    "               batch_size=10,\\\n",
    "               verbose=1)"
   ]
  },
  {
   "cell_type": "code",
   "execution_count": 109,
   "metadata": {},
   "outputs": [
    {
     "name": "stdout",
     "output_type": "stream",
     "text": [
      "188/188 [==============================] - 2s 11ms/sample\n"
     ]
    }
   ],
   "source": [
    "pred = model.predict(x=[test_data[:,0,:,:,:],test_data[:,1,:,:,:],test_data[:,2,:,:,:],test_data[:,3,:,:,:]],\\\n",
    "                     batch_size=10, verbose=1)"
   ]
  },
  {
   "cell_type": "markdown",
   "metadata": {},
   "source": [
    "## ROC"
   ]
  },
  {
   "cell_type": "code",
   "execution_count": 117,
   "metadata": {
    "colab": {},
    "colab_type": "code",
    "id": "FhQdhWZ0J3_S"
   },
   "outputs": [],
   "source": [
    "from sklearn.metrics import roc_curve, auc"
   ]
  },
  {
   "cell_type": "code",
   "execution_count": 118,
   "metadata": {},
   "outputs": [],
   "source": [
    "fpr, tpr, threshold = roc_curve(test_label, pred)\n",
    "roc_auc = auc(fpr, tpr)"
   ]
  },
  {
   "cell_type": "code",
   "execution_count": 119,
   "metadata": {},
   "outputs": [
    {
     "data": {
      "image/png": "[encoded data removed]",
      "text/plain": [
       "<Figure size 432x288 with 1 Axes>"
      ]
     },
     "metadata": {
      "needs_background": "light"
     },
     "output_type": "display_data"
    }
   ],
   "source": [
    "fig = plt.figure()\n",
    "lw = 2\n",
    "plt.plot(fpr, tpr, color='darkorange',\n",
    "         lw=lw, label='ROC curve (area = %0.2f)' % roc_auc)\n",
    "plt.plot([0, 1], [0, 1], color='navy', lw=lw, linestyle='--')\n",
    "plt.xlim([0.0, 1.0])\n",
    "plt.ylim([0.0, 1.05])\n",
    "plt.xlabel('False Positive Rate')\n",
    "plt.ylabel('True Positive Rate')\n",
    "plt.title('Receiver operating characteristic for 091')\n",
    "plt.legend(loc=\"lower right\")\n",
    "plt.show()"
   ]
  },
  {
   "cell_type": "code",
   "execution_count": 120,
   "metadata": {},
   "outputs": [
    {
     "data": {
      "text/plain": [
       "<matplotlib.image.AxesImage at 0x7faad26cf518>"
      ]
     },
     "execution_count": 120,
     "metadata": {},
     "output_type": "execute_result"
    },
    {
     "data": {
      "image/png": "[encoded data removed]",
      "text/plain": [
       "<Figure size 432x288 with 1 Axes>"
      ]
     },
     "metadata": {
      "needs_background": "light"
     },
     "output_type": "display_data"
    }
   ],
   "source": [
    "path = '../results/' + str(test_index) + '/' + 'ROC.png'\n",
    "fig.savefig(path, bbox_inches = 'tight')\n",
    "a = plt.imread(path)\n",
    "plt.imshow(a)"
   ]
  },
  {
   "cell_type": "markdown",
   "metadata": {},
   "source": [
    "## Confusion Matrix"
   ]
  },
  {
   "cell_type": "code",
   "execution_count": 121,
   "metadata": {},
   "outputs": [],
   "source": [
    "from pandas_ml import ConfusionMatrix"
   ]
  },
  {
   "cell_type": "code",
   "execution_count": 122,
   "metadata": {},
   "outputs": [],
   "source": [
    "pred = pred > 0.5"
   ]
  },
  {
   "cell_type": "code",
   "execution_count": 123,
   "metadata": {},
   "outputs": [],
   "source": [
    "confusion_matrix = ConfusionMatrix(test_label.reshape(-1), pred.reshape(-1))"
   ]
  },
  {
   "cell_type": "code",
   "execution_count": 124,
   "metadata": {},
   "outputs": [],
   "source": [
    "import seaborn as sns\n",
    "cm = np.array([[confusion_matrix.TP, confusion_matrix.FN], [confusion_matrix.FP, confusion_matrix.TN]])\n",
    "cm = cm/np.sum(cm)"
   ]
  },
  {
   "cell_type": "code",
   "execution_count": 125,
   "metadata": {},
   "outputs": [
    {
     "data": {
      "image/png": "[encoded data removed]",
      "text/plain": [
       "<Figure size 432x288 with 2 Axes>"
      ]
     },
     "metadata": {
      "needs_background": "light"
     },
     "output_type": "display_data"
    }
   ],
   "source": [
    "path = '../results/' + str(test_index) + '/' + 'cm.png'\n",
    "fig = sns.heatmap(cm, center=0, annot=True, cmap=\"YlGnBu\",  xticklabels=['Pred_True', 'Pred_False'], yticklabels=['Actual_True', 'Actual_False'])\n",
    "fig.figure.savefig(path, bbox_inches='tight')\n",
    "# img=plt.imread('cm.png')\n",
    "# plt.imshow(img)"
   ]
  },
  {
   "cell_type": "code",
   "execution_count": 126,
   "metadata": {},
   "outputs": [],
   "source": [
    "path = '../results/' + str(test_index) + '/' + 'accuracy.txt'\n",
    "file = open(path,\"w\")\n",
    "file.write(str(result[1])) \n",
    "file.close()"
   ]
  },
  {
   "cell_type": "code",
   "execution_count": 103,
   "metadata": {},
   "outputs": [
    {
     "name": "stdout",
     "output_type": "stream",
     "text": [
      "cat: path: No such file or directory\r\n"
     ]
    }
   ],
   "source": [
    "! cat path"
   ]
  },
  {
   "cell_type": "code",
   "execution_count": null,
   "metadata": {},
   "outputs": [],
   "source": []
  }
 ],
 "metadata": {
  "accelerator": "GPU",
  "colab": {
   "collapsed_sections": [],
   "name": "dp_model.ipynb",
   "provenance": [],
   "version": "0.3.2"
  },
  "kernelspec": {
   "display_name": "Python 3",
   "language": "python",
   "name": "python3"
  },
  "language_info": {
   "codemirror_mode": {
    "name": "ipython",
    "version": 3
   },
   "file_extension": ".py",
   "mimetype": "text/x-python",
   "name": "python",
   "nbconvert_exporter": "python",
   "pygments_lexer": "ipython3",
   "version": "3.5.3"
  }
 },
 "nbformat": 4,
 "nbformat_minor": 1
}
