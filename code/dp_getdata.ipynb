{
 "cells": [
  {
   "cell_type": "code",
   "execution_count": 1,
   "metadata": {
    "colab": {},
    "colab_type": "code",
    "id": "-EoGmpqkqnTl"
   },
   "outputs": [],
   "source": [
    "%matplotlib inline\n",
    "import matplotlib.pyplot as plt\n",
    "import numpy as np\n",
    "from openslide import open_slide, __library_version__ as openslide_version\n",
    "import os\n",
    "from PIL import Image\n",
    "from skimage.color import rgb2gray\n",
    "import random\n",
    "import pickle"
   ]
  },
  {
   "cell_type": "markdown",
   "metadata": {
    "colab_type": "text",
    "id": "QD2ThoU4dcrZ"
   },
   "source": [
    "Get fig"
   ]
  },
  {
   "cell_type": "code",
   "execution_count": 2,
   "metadata": {
    "colab": {},
    "colab_type": "code",
    "id": "qiR7GgE7b4tX"
   },
   "outputs": [],
   "source": [
    "def get_fig(dataset):\n",
    "  res = []\n",
    "  for fig in dataset:\n",
    "    slide_path = '../images/tumor_'+fig +'.tif'\n",
    "    tumor_mask_path = '../images/tumor_' + fig +'_mask.tif'\n",
    "    slide,tumor_mask = open_slide(slide_path),open_slide(tumor_mask_path)\n",
    "    res.append((slide,tumor_mask))\n",
    "  return res\n",
    "#slide = open_slide(slide_path) slide: level_dimensions[0][0 or 1],level_dimensions[i],level_downsamples[i] "
   ]
  },
  {
   "cell_type": "markdown",
   "metadata": {
    "colab_type": "text",
    "id": "SU3FX1KCgGjd"
   },
   "source": [
    "read slide"
   ]
  },
  {
   "cell_type": "code",
   "execution_count": 3,
   "metadata": {
    "colab": {},
    "colab_type": "code",
    "id": "l01nxIH0dgmY"
   },
   "outputs": [],
   "source": [
    "# Read a region from the slide\n",
    "# Return a numpy RBG array\n",
    "def read_slide(slide, x, y, level, width, height, as_float=False):\n",
    "    im = slide.read_region((x,y), level, (width, height))\n",
    "    im = im.convert('RGB') # drop the alpha channel\n",
    "    if as_float:\n",
    "        im = np.asarray(im, dtype=np.float32)\n",
    "    else:\n",
    "        im = np.asarray(im)\n",
    "    assert im.shape == (height, width, 3)\n",
    "    return im"
   ]
  },
  {
   "cell_type": "markdown",
   "metadata": {
    "colab_type": "text",
    "id": "GhljXClJgWYY"
   },
   "source": [
    "sliding window"
   ]
  },
  {
   "cell_type": "code",
   "execution_count": 4,
   "metadata": {
    "colab": {},
    "colab_type": "code",
    "id": "MQhvM_2YgJiH"
   },
   "outputs": [],
   "source": [
    "def get_center(slide):\n",
    "  coor = []\n",
    "  x_list = list(range((299//2)*8, (slide.level_dimensions[6][0] - 299//2)*8 , 128))\n",
    "  y_list = list(range((299//2)*8, (slide.level_dimensions[6][1] - 299//2)*8 , 128))\n",
    "  for x in x_list:\n",
    "    for y in y_list:\n",
    "      coor.append((x,y))\n",
    "  return coor\n",
    "#coor[i][0],coor[i][1]:x,y"
   ]
  },
  {
   "cell_type": "code",
   "execution_count": 5,
   "metadata": {
    "colab": {},
    "colab_type": "code",
    "id": "3uqoZxbNlItK"
   },
   "outputs": [],
   "source": [
    "#coor_list: center node from level 3\n",
    "def detect_tumor(slide,tumor_mask,coor_list):\n",
    "  tumor_coor, normal_coor = [],[]\n",
    "  for coor in coor_list:\n",
    "    #use 299*299 to detect whether it's tissue or not\n",
    "    area = read_slide(slide,x = (coor[0]-299//2)*8, y = (coor[1]-299//2)*8,level = 3, width = 299, height = 299)\n",
    "    im_gray = rgb2gray(area)\n",
    "    indices = np.where(im_gray <= 0.8)\n",
    "    if indices:\n",
    "      #use 128*128 to give the label\n",
    "      mask = read_slide(tumor_mask,x = (coor[0]-128//2)*8, y = (coor[1]-128//2)*8, level = 3, width = 128, height = 128 )[:,:,0]\n",
    "      tumor_coor.append(coor) if np.any(mask==1) else normal_coor.append(coor)\n",
    "  #print(tumor_coor, normal_coor)\n",
    "  length = min(len(tumor_coor),len(normal_coor))\n",
    "  print(length)\n",
    "  random.shuffle(tumor_coor)\n",
    "  random.shuffle(normal_coor)\n",
    "  label = np.array(list(np.ones([length])) + list(np.zeros([length])))\n",
    "  final_coor = tumor_coor[:length] + normal_coor[:length]\n",
    "  \n",
    "  state = np.random.get_state()\n",
    "  np.random.shuffle(final_coor)\n",
    "  np.random.set_state(state)\n",
    "  np.random.shuffle(label)\n",
    "  return final_coor, label\n",
    "# return the center node of level 3 after balancing "
   ]
  },
  {
   "cell_type": "markdown",
   "metadata": {
    "colab_type": "text",
    "id": "QuVYTctNL6Up"
   },
   "source": [
    "extract patchces"
   ]
  },
  {
   "cell_type": "code",
   "execution_count": 6,
   "metadata": {
    "colab": {},
    "colab_type": "code",
    "id": "bp0vEetiL8C7"
   },
   "outputs": [],
   "source": [
    "#extract patches for exact coors\n",
    "def extractpatches(image,x,y,level_num):\n",
    "  scale = 2**(level_num - 3)\n",
    "  scale2 = 2**level_num\n",
    "  region = read_slide(image, (x//scale - 299//2)*scale2, (y//scale - 299//2)*scale2, level = level_num, width=299, height=299)\n",
    "  return region"
   ]
  },
  {
   "cell_type": "code",
   "execution_count": 7,
   "metadata": {
    "colab": {},
    "colab_type": "code",
    "id": "xR2vVbRJL9w9"
   },
   "outputs": [],
   "source": [
    "def preparetraindata(image,coor_list,level_list):\n",
    "  res = []\n",
    "  for coor in coor_list:\n",
    "      patch = []\n",
    "      for level in level_list:\n",
    "        area = extractpatches(image,coor[0],coor[1],level)\n",
    "        patch.append(area)\n",
    "      res.append(patch)\n",
    "  res = np.array(res)\n",
    "  return res #res: np (#, 4,299,299,3) "
   ]
  },
  {
   "cell_type": "markdown",
   "metadata": {
    "colab_type": "text",
    "id": "2eimRzhGKNb8"
   },
   "source": [
    "get train data"
   ]
  },
  {
   "cell_type": "code",
   "execution_count": 8,
   "metadata": {
    "colab": {},
    "colab_type": "code",
    "id": "J20mzSUHKmeh"
   },
   "outputs": [],
   "source": [
    "def get_train(dataset,level_list):\n",
    "  res = get_fig(dataset)\n",
    "  for i,fig in enumerate(dataset):\n",
    "    slide,tumor_mask = res[i][0], res[i][1]\n",
    "    coor_list = get_center(slide)\n",
    "    final_coor, label = detect_tumor(slide,tumor_mask,coor_list)\n",
    "    region = preparetraindata(slide,final_coor,level_list)\n",
    "    Data = [region, label]\n",
    "    print(region.shape)\n",
    "    with open('../data/dp_train/patches'+fig+'.txt', 'wb') as f:\n",
    "        pickle.dump(Data, f)\n",
    "  return Data"
   ]
  },
  {
   "cell_type": "code",
   "execution_count": 12,
   "metadata": {},
   "outputs": [],
   "source": [
    "def get_test(dataset,level_list):\n",
    "  res = get_fig(dataset)\n",
    "  for i,fig in enumerate(dataset):\n",
    "    slide,tumor_mask = res[i][0], res[i][1]\n",
    "    coor_list = get_center(slide)\n",
    "    final_coor, label = detect_tumor(slide,tumor_mask,coor_list)\n",
    "    region = preparetraindata(slide,final_coor,level_list)\n",
    "    Data = [region, label]\n",
    "    print(region.shape)\n",
    "    with open('../data/patches'+fig+'.txt', 'wb') as f:\n",
    "        pickle.dump(Data, f)\n",
    "  return Data"
   ]
  },
  {
   "cell_type": "code",
   "execution_count": 24,
   "metadata": {
    "colab": {
     "base_uri": "https://localhost:8080/",
     "height": 51
    },
    "colab_type": "code",
    "id": "6Wct6WGvIEBx",
    "outputId": "d7e5ede5-32f7-4b00-a8df-79a5638c3bfa"
   },
   "outputs": [
    {
     "name": "stdout",
     "output_type": "stream",
     "text": [
      "97\n",
      "(194, 4, 299, 299, 3)\n"
     ]
    }
   ],
   "source": [
    "#train_dataset = ['001','005','016','031','064','075','091','094','096','110']\n",
    "# train_dataset = ['110']\n",
    "# region, label = get_train(train_dataset,[3,4,5,6])\n",
    "\n",
    "test_dataset = ['096']\n",
    "region, label = get_test(test_dataset,[3,4,5,6])"
   ]
  },
  {
   "cell_type": "code",
   "execution_count": null,
   "metadata": {
    "colab": {
     "base_uri": "https://localhost:8080/",
     "height": 286
    },
    "colab_type": "code",
    "id": "f-ftMrebNNTN",
    "outputId": "3a7c15ee-4808-4aaa-a9aa-4cbe8e6499f5"
   },
   "outputs": [],
   "source": [
    "plt.imshow(region[5,3,:,:,:])"
   ]
  },
  {
   "cell_type": "code",
   "execution_count": null,
   "metadata": {
    "colab": {},
    "colab_type": "code",
    "id": "kLMEbHI0RU0r"
   },
   "outputs": [],
   "source": [
    "#(001,52),(078,2762),(012,6),(110,2452)\n",
    "#()"
   ]
  }
 ],
 "metadata": {
  "accelerator": "GPU",
  "colab": {
   "name": "dp_getdata_2.ipynb",
   "provenance": [],
   "version": "0.3.2"
  },
  "kernelspec": {
   "display_name": "Python 3",
   "language": "python",
   "name": "python3"
  },
  "language_info": {
   "codemirror_mode": {
    "name": "ipython",
    "version": 3
   },
   "file_extension": ".py",
   "mimetype": "text/x-python",
   "name": "python",
   "nbconvert_exporter": "python",
   "pygments_lexer": "ipython3",
   "version": "3.5.3"
  }
 },
 "nbformat": 4,
 "nbformat_minor": 1
}
